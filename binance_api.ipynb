{
 "cells": [
  {
   "cell_type": "code",
   "execution_count": 2,
   "metadata": {},
   "outputs": [],
   "source": [
    "import pandas as pd\n",
    "from binance.client import Client\n",
    "from binance import BinanceSocketManager"
   ]
  },
  {
   "cell_type": "code",
   "execution_count": 5,
   "metadata": {},
   "outputs": [],
   "source": [
    "api_key = '9V9Zg1sXkVN6AHYmyxuGoh8zdaNB3lH4cvyQkstSnmWuU2LWpoDcyUQUFjw0vntf'\n",
    "api_secret = 'b6tUcpTANWJZi2ey3yGpP0SaLuj4xRKZNNJDl7DruchNNfG7fD1hwWIy0tUdJJ9h'\n",
    "\n",
    "cli = Client(api_key, api_secret)\n",
    "bsm = BinanceSocketManager(client=cli)"
   ]
  },
  {
   "cell_type": "code",
   "execution_count": 7,
   "metadata": {},
   "outputs": [],
   "source": [
    "socket = bsm.trade_socket('BTCUSDT')"
   ]
  },
  {
   "cell_type": "code",
   "execution_count": 8,
   "metadata": {},
   "outputs": [
    {
     "name": "stdout",
     "output_type": "stream",
     "text": [
      "{'e': 'trade', 'E': 1644256124879, 's': 'BTCUSDT', 't': 1249377930, 'p': '44005.91000000', 'q': '0.00180000', 'b': 9298834142, 'a': 9298834330, 'T': 1644256124878, 'm': True, 'M': True}\n"
     ]
    }
   ],
   "source": [
    "await socket.__aenter__()\n",
    "msg = await socket.recv()\n",
    "print(msg)"
   ]
  }
 ],
 "metadata": {
  "interpreter": {
   "hash": "3f2b9d25dff967ac5f70970c74e7eea195ed19b5129a954d37f571ce28982f3f"
  },
  "kernelspec": {
   "display_name": "Python 3.9.0 ('stocks')",
   "language": "python",
   "name": "python3"
  },
  "language_info": {
   "codemirror_mode": {
    "name": "ipython",
    "version": 3
   },
   "file_extension": ".py",
   "mimetype": "text/x-python",
   "name": "python",
   "nbconvert_exporter": "python",
   "pygments_lexer": "ipython3",
   "version": "3.9.0"
  },
  "orig_nbformat": 4
 },
 "nbformat": 4,
 "nbformat_minor": 2
}
